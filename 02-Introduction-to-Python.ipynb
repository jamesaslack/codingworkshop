{
 "cells": [
  {
   "cell_type": "markdown",
   "metadata": {},
   "source": [
    "# Python is interpreted\n",
    "Which means that the statements we type are interpreted and executed immediately.\n",
    "\n",
    "Let's quickly try using Python as a quick calculation to see how immediate this is.\n",
    "\n",
    "Given that the distance between Edinburgh and London is 403 miles, can we convert that to km?"
   ]
  },
  {
   "cell_type": "code",
   "execution_count": null,
   "metadata": {},
   "outputs": [],
   "source": [
    "403 * 1.60934"
   ]
  },
  {
   "cell_type": "markdown",
   "metadata": {},
   "source": [
    "Typing in numbers gets tedious quickly, how can we get around that?\n",
    "\n",
    "# Variables\n",
    "\n",
    "Variables are human-readable containers that can store numbers, characters, strings or any other value. This means that we can quickly assign a valuable peice of information to an easy to remember variable. Creating meaningful variable names will become important as we start to build up more complex code.\n",
    "\n",
    "Let's try to calculate the distance between Edinburgh and London in km again:\n"
   ]
  },
  {
   "cell_type": "code",
   "execution_count": null,
   "metadata": {},
   "outputs": [],
   "source": [
    "distanceToLondonMiles = 403\n",
    "mileToKm = 1.60934\n",
    "distanceToLondonKm = distanceToLondonMiles * mileToKm\n",
    "distanceToLondonKm"
   ]
  },
  {
   "cell_type": "markdown",
   "metadata": {},
   "source": [
    "That's neat! Now we can reuse the variable *mileToKm* for other conversions without having to type it in again!\n",
    "\n",
    "Can we do the same conversion for a marathon, while keeping some of the variables above?"
   ]
  },
  {
   "cell_type": "code",
   "execution_count": null,
   "metadata": {},
   "outputs": [],
   "source": [
    "marathonDistanceMiles = 26.219\n",
    "marathonDistanceKm = marathonDistanceMiles * mileToKm\n",
    "print(marathonDistanceKm)"
   ]
  },
  {
   "cell_type": "markdown",
   "metadata": {},
   "source": [
    "Now instead of having to remember or look up the ratio of Miles to Kilometres we only need to remember the name of the Variable.\n",
    "\n",
    "**But what if we have too many variables to remember?**\n",
    "\n",
    "Then we just use %whos to see what we currently have stored locally!"
   ]
  },
  {
   "cell_type": "code",
   "execution_count": null,
   "metadata": {},
   "outputs": [],
   "source": [
    "%whos"
   ]
  },
  {
   "cell_type": "markdown",
   "metadata": {},
   "source": [
    "## Types\n",
    "\n",
    "The values in these containers are stored as particular types. The important ones to remember are:\n",
    "\n",
    "| Type | Declaration | Example | Usage |\n",
    "|----|----|----|----|\n",
    "| Integer  | int | `x = 124` | Numbers without decimal point |\n",
    "| Float  | float | `x = 124.56` | Numbers with decimcal point |\n",
    "| String  | str | `x = \"Hello world\"` | Used for text |\n",
    "| Boolean  | bool | `x = True` or `x = False` | Used for conditional statements |\n",
    "| NoneType  | None | `x = None` | Whenever you want an empty variable |\n",
    "\n",
    "How does all of that actually affect us? Well, let's try to add an Integer and a String:\n"
   ]
  },
  {
   "cell_type": "code",
   "execution_count": null,
   "metadata": {
    "scrolled": true
   },
   "outputs": [],
   "source": [
    "x = 10    # This is an integer\n",
    "y = \"20\"  # This is a string\n",
    "x + y"
   ]
  },
  {
   "cell_type": "markdown",
   "metadata": {},
   "source": [
    "**Whoops! Seems like we managed to break Python.**\n",
    "\n",
    "Luckily, Python offers an easy way to convert one variable to another. Let's try our example again."
   ]
  },
  {
   "cell_type": "code",
   "execution_count": null,
   "metadata": {},
   "outputs": [],
   "source": [
    "x = 10    # This is an integer\n",
    "y = \"20\"  # This is a string\n",
    "x + int(y)"
   ]
  },
  {
   "cell_type": "markdown",
   "metadata": {},
   "source": [
    "We just converted the String variable `y` to an Integer! Actually, we can convert any type of variable to another type in a similar manner! For example, we can convert `y` back to a String with `str(y)`.\n",
    "\n",
    "If you are ever unsure of what type a variable you can use the `type()` function to find out."
   ]
  },
  {
   "cell_type": "code",
   "execution_count": null,
   "metadata": {},
   "outputs": [],
   "source": [
    "type(mileToKm)"
   ]
  },
  {
   "cell_type": "markdown",
   "metadata": {},
   "source": [
    "What if we make x and y Strings and add them up?"
   ]
  },
  {
   "cell_type": "code",
   "execution_count": null,
   "metadata": {},
   "outputs": [],
   "source": [
    "x = \"10\"\n",
    "y = \"20\"\n",
    "x + y"
   ]
  },
  {
   "cell_type": "markdown",
   "metadata": {},
   "source": [
    "That doesn't seem arithmetically correct but is correct in the world of Python. We effectively concatinated 2 strings!\n",
    "\n",
    "Notice how the `+` operator behaves differently depending on the type of the variables. This is an imporant principle which spans across the whole Python language!"
   ]
  },
  {
   "cell_type": "markdown",
   "metadata": {},
   "source": [
    "### Exercise\n",
    "1. Create a variable `x` and assign the value `4` to it.\n",
    "2. Create another variable `y` and assign to it the value of `x`\n",
    "3. Change the value of `x` to be `\"four\"`\n",
    "\n",
    "Confirm your results by typing `x,y` at the **end** of the code cell. This will print out the values of the 2 variables."
   ]
  },
  {
   "cell_type": "code",
   "execution_count": null,
   "metadata": {},
   "outputs": [],
   "source": [
    "x = 4\n",
    "y = x"
   ]
  },
  {
   "cell_type": "code",
   "execution_count": null,
   "metadata": {},
   "outputs": [],
   "source": [
    "x = \"four\"\n",
    "x,y"
   ]
  },
  {
   "cell_type": "markdown",
   "metadata": {},
   "source": [
    "# Strings\n",
    "Strings are very powerful in Python and offer a lot of functionality. For one, they can be added and multiplied. That sounds a bit absurd, how can you add and multiply words? Well, they can and actually they can do much more."
   ]
  },
  {
   "cell_type": "code",
   "execution_count": null,
   "metadata": {},
   "outputs": [],
   "source": [
    "x = \"Python\"\n",
    "y = \"rocks\"\n",
    "x + \" \" + y"
   ]
  },
  {
   "cell_type": "code",
   "execution_count": null,
   "metadata": {},
   "outputs": [],
   "source": [
    "x = \"This can be\"\n",
    "y = \"repeated \"\n",
    "x + \" \" + y * 3"
   ]
  },
  {
   "cell_type": "markdown",
   "metadata": {},
   "source": [
    "Strings also have som of built-in functions which alter them directly. Here are some of them:"
   ]
  },
  {
   "cell_type": "code",
   "execution_count": null,
   "metadata": {},
   "outputs": [],
   "source": [
    "x = \"Edinburgh\"\n",
    "x = x.upper()\n",
    "\n",
    "y = \"University Of \"\n",
    "y = y.lower()\n",
    "\n",
    "y + x"
   ]
  },
  {
   "cell_type": "markdown",
   "metadata": {},
   "source": [
    "To find out its full capabilities you can use *Tab Completion*. Simply type out the string variable followed by a `.` and then press the **Tab character** on your keyboard. A dropdown menu should appear showing you all of the methods of strings.\n",
    "\n",
    "This Tab completion functionality extends to everything else in Python (eg. variables, functions, methods), however, it our case it is a feature provided by Jupyter Notebooks."
   ]
  },
  {
   "cell_type": "code",
   "execution_count": null,
   "metadata": {},
   "outputs": [],
   "source": [
    "x."
   ]
  },
  {
   "cell_type": "markdown",
   "metadata": {},
   "source": [
    "but what if we want to include numbers in strings? Surely we can keep a number stored as a String (ie. `x = \"20\"`) but we can't use that number for actual calculations. \n",
    "\n",
    "The right way to do this is to keep numbers represented by numbers (ie. integers, floats, etc.) and only convert them to Strings whenever needed. To show how to do that let us compute the answer to the universe."
   ]
  },
  {
   "cell_type": "code",
   "execution_count": null,
   "metadata": {},
   "outputs": [],
   "source": [
    "x = 6\n",
    "x = ( x * 441 ) // 63\n",
    "\"The answer to Life, the Universe and Everything is \" + str(x)"
   ]
  },
  {
   "cell_type": "markdown",
   "metadata": {},
   "source": [
    "# Arithmetical operators\n",
    "\n",
    "Now let's see how we can make full use of our new calculator. Python supports a range of different arithmetical operators:\n",
    "\n",
    "| Symbol | Task Performed | Example | Result\n",
    "|----|---|---|---|\n",
    "| +  | Addition | 4 + 3 | 7 |\n",
    "| -  | Subtraction | 4 - 3 | 1 |\n",
    "| /  | Division | 7 / 2 | 3.5 |\n",
    "| %  | Mod | 7 % 2 | 1 |\n",
    "| *  | Multiplication | 4 * 3 | 12 |\n",
    "| //  | Floor division | 7 // 2 | 3 |\n",
    "| **  | Power of | 7 ** 2 | 49 |\n",
    "\n",
    "Make note of how the different division operators work."
   ]
  },
  {
   "cell_type": "code",
   "execution_count": null,
   "metadata": {},
   "outputs": [],
   "source": [
    "16 ** 2 / 4"
   ]
  },
  {
   "cell_type": "markdown",
   "metadata": {},
   "source": [
    "What happens if we have a lot of operators on the same line? It becomes difficult to read and increases your chances of making an error. Let's try to calculate `7 ** 2` again but this time represent 7 as 4 + 3."
   ]
  },
  {
   "cell_type": "code",
   "execution_count": null,
   "metadata": {},
   "outputs": [],
   "source": [
    "4 + 3 ** 2"
   ]
  },
  {
   "cell_type": "markdown",
   "metadata": {},
   "source": [
    "That doesn't seem correct. Just like in actual Mathematics, we can put parenthesis when calculating. "
   ]
  },
  {
   "cell_type": "code",
   "execution_count": null,
   "metadata": {},
   "outputs": [],
   "source": [
    "(4 + 3) ** 2"
   ]
  },
  {
   "cell_type": "markdown",
   "metadata": {},
   "source": [
    "### Exercise\n",
    "Perform the followig calculations:\n",
    "1. Multiply 549 by 72108\n",
    "2. Add 48 to it\n",
    "3. Divide it by 31\n"
   ]
  },
  {
   "cell_type": "code",
   "execution_count": null,
   "metadata": {},
   "outputs": [],
   "source": []
  },
  {
   "cell_type": "markdown",
   "metadata": {},
   "source": [
    "# Functions\n",
    "\n",
    "Whereas variables are a way of storing signle peices of information we can use **Functions** to store small programs, snippets of code that perform a specific *function* along with the argument. The arguement is what we want to run through that function.\n",
    "\n",
    "Python comes with many **Functions** already existing to help us save time, **Print** is a function, it takes an arugment and prints it in the notebook.\n",
    "\n",
    "Let's use the example of London to Edinburgh and extend it a little further. Let's create a **Function** that will take any value in Miles and convert that into Kilometres. "
   ]
  },
  {
   "cell_type": "code",
   "execution_count": null,
   "metadata": {},
   "outputs": [],
   "source": [
    "def Convert(mi):\n",
    "    km = mi * 1.60934\n",
    "    print(\"The entered value in Kilometres is:\", km)"
   ]
  },
  {
   "cell_type": "markdown",
   "metadata": {},
   "source": [
    "This function will take an arguement, contained within the () and then use this in the code segment. Here we will use the *argument* to allow for the insertion of the distance in miles. Now instead of having to type out all of the code we can simply use Convert() and insert the distance in miles. We've also made it slightly more user friendly by including a **Print** statement to tell us what this new value is."
   ]
  },
  {
   "cell_type": "code",
   "execution_count": null,
   "metadata": {},
   "outputs": [],
   "source": [
    "Convert(26.219)"
   ]
  },
  {
   "cell_type": "code",
   "execution_count": null,
   "metadata": {},
   "outputs": [],
   "source": []
  }
 ],
 "metadata": {
  "kernelspec": {
   "display_name": "Python 3",
   "language": "python",
   "name": "python3"
  },
  "language_info": {
   "codemirror_mode": {
    "name": "ipython",
    "version": 3
   },
   "file_extension": ".py",
   "mimetype": "text/x-python",
   "name": "python",
   "nbconvert_exporter": "python",
   "pygments_lexer": "ipython3",
   "version": "3.8.8"
  }
 },
 "nbformat": 4,
 "nbformat_minor": 2
}
